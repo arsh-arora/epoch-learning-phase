{
  "nbformat": 4,
  "nbformat_minor": 0,
  "metadata": {
    "colab": {
      "provenance": [],
      "gpuType": "T4"
    },
    "kernelspec": {
      "name": "python3",
      "display_name": "Python 3"
    },
    "language_info": {
      "name": "python"
    },
    "accelerator": "GPU"
  },
  "cells": [
    {
      "cell_type": "code",
      "source": [
        "import gym\n",
        "import numpy as np\n",
        "\n",
        "env = gym.make('Blackjack-v1')"
      ],
      "metadata": {
        "colab": {
          "base_uri": "https://localhost:8080/"
        },
        "id": "KShLvVKPgEiL",
        "outputId": "11cea596-8225-4409-f5f4-0e9404696a0a"
      },
      "execution_count": 1,
      "outputs": [
        {
          "output_type": "stream",
          "name": "stderr",
          "text": [
            "/usr/local/lib/python3.10/dist-packages/gym/core.py:317: DeprecationWarning: \u001b[33mWARN: Initializing wrapper in old step API which returns one bool instead of two. It is recommended to set `new_step_api=True` to use new step API. This will be the default behaviour in future.\u001b[0m\n",
            "  deprecation(\n",
            "/usr/local/lib/python3.10/dist-packages/gym/wrappers/step_api_compatibility.py:39: DeprecationWarning: \u001b[33mWARN: Initializing environment in old step API which returns one bool instead of two. It is recommended to set `new_step_api=True` to use new step API. This will be the default behaviour in future.\u001b[0m\n",
            "  deprecation(\n"
          ]
        }
      ]
    },
    {
      "cell_type": "code",
      "source": [
        "Q = np.zeros((32, 11, 2, 2))"
      ],
      "metadata": {
        "colab": {
          "base_uri": "https://localhost:8080/"
        },
        "id": "D4PN243ugHIt",
        "outputId": "e08ad9b1-e868-47bf-bc5e-8b9d91461938"
      },
      "execution_count": 2,
      "outputs": [
        {
          "output_type": "stream",
          "name": "stderr",
          "text": [
            "/usr/local/lib/python3.10/dist-packages/ipykernel/ipkernel.py:283: DeprecationWarning: `should_run_async` will not call `transform_cell` automatically in the future. Please pass the result to `transformed_cell` argument and any exception that happen during thetransform in `preprocessing_exc_tuple` in IPython 7.17 and above.\n",
            "  and should_run_async(code)\n"
          ]
        }
      ]
    },
    {
      "cell_type": "code",
      "source": [
        "num_episodes = 100000\n",
        "learning_rate = 0.1\n",
        "discount_factor = 0.99\n",
        "epsilon = 0.1"
      ],
      "metadata": {
        "id": "nsub83qtgIjm"
      },
      "execution_count": 3,
      "outputs": []
    },
    {
      "cell_type": "markdown",
      "source": [
        "# Using Q-learning"
      ],
      "metadata": {
        "id": "HJRucw4PhPcN"
      }
    },
    {
      "cell_type": "code",
      "source": [
        "for episode in range(num_episodes):\n",
        "    state = env.reset()\n",
        "    done = False\n",
        "\n",
        "    while not done:\n",
        "        player_sum, dealer_card, usable_ace = state\n",
        "        player_sum -= 12\n",
        "        dealer_card -= 1\n",
        "        usable_ace = int(usable_ace)\n",
        "\n",
        "\n",
        "        if np.random.rand() < epsilon:\n",
        "            action = env.action_space.sample()\n",
        "        else:\n",
        "            action = np.argmax(Q[player_sum, dealer_card, usable_ace, :])\n",
        "\n",
        "        next_state, reward, done, _ = env.step(action)\n",
        "\n",
        "\n",
        "        old_q_value = Q[player_sum, dealer_card, usable_ace, action]\n",
        "        next_max_q_value = np.max(Q[next_state[0]-12, next_state[1]-1, int(next_state[2]), :])\n",
        "        new_q_value = old_q_value + learning_rate * (reward + discount_factor * next_max_q_value - old_q_value)\n",
        "\n",
        "        Q[player_sum, dealer_card, usable_ace, action] = new_q_value\n",
        "\n",
        "        state = next_state"
      ],
      "metadata": {
        "id": "vp6Sd01fgKAs"
      },
      "execution_count": 4,
      "outputs": []
    },
    {
      "cell_type": "code",
      "execution_count": 5,
      "metadata": {
        "id": "NadM51su0VGv",
        "colab": {
          "base_uri": "https://localhost:8080/"
        },
        "outputId": "f999fd74-a311-43ef-ce00-72751c522391"
      },
      "outputs": [
        {
          "output_type": "stream",
          "name": "stdout",
          "text": [
            "Wins: 3915\n",
            "Losses: 5383\n",
            "Draws: 702\n"
          ]
        }
      ],
      "source": [
        "num_episodes = 10000\n",
        "wins = 0\n",
        "loss = 0\n",
        "draw = 0\n",
        "for episode in range(num_episodes):\n",
        "    state = env.reset()\n",
        "    done = False\n",
        "\n",
        "    while not done:\n",
        "        player_sum, dealer_card, usable_ace = state\n",
        "        player_sum -= 12\n",
        "        dealer_card -= 1\n",
        "        usable_ace = int(usable_ace)\n",
        "\n",
        "        action = np.argmax(Q[player_sum, dealer_card, usable_ace, :])\n",
        "\n",
        "        next_state, reward, done, _ = env.step(action)\n",
        "\n",
        "        state = next_state\n",
        "\n",
        "    if reward == 1:\n",
        "        wins += 1\n",
        "    elif reward == -1:\n",
        "        loss += 1\n",
        "    else:\n",
        "        draw += 1\n",
        "\n",
        "\n",
        "print(\"Wins:\", wins)\n",
        "print(\"Losses:\", loss)\n",
        "print(\"Draws:\", draw)"
      ]
    },
    {
      "cell_type": "code",
      "source": [
        "win_percentage = (wins / num_episodes) * 100\n",
        "loss_percentage = (loss / num_episodes) * 100\n",
        "draw_percentage = (draw / num_episodes) * 100\n",
        "print(\"Win Percentage: %.2f%%\" % win_percentage)\n",
        "print(\"Loss Percentage: %.2f%%\" % loss_percentage)\n",
        "print(\"Draw Percentage: %.2f%%\" % draw_percentage)"
      ],
      "metadata": {
        "colab": {
          "base_uri": "https://localhost:8080/"
        },
        "id": "XVqskKzX1UuZ",
        "outputId": "2c277040-0ec0-47a9-86fc-e8ac86a30f98"
      },
      "execution_count": 6,
      "outputs": [
        {
          "output_type": "stream",
          "name": "stdout",
          "text": [
            "Win Percentage: 39.15%\n",
            "Loss Percentage: 53.83%\n",
            "Draw Percentage: 7.02%\n"
          ]
        }
      ]
    },
    {
      "cell_type": "markdown",
      "source": [
        "# Using SARSA"
      ],
      "metadata": {
        "id": "rIrAylBchMcO"
      }
    },
    {
      "cell_type": "code",
      "source": [
        "Q = np.zeros((32, 11, 2, 2))"
      ],
      "metadata": {
        "id": "QDRSUPVZhWIO"
      },
      "execution_count": 7,
      "outputs": []
    },
    {
      "cell_type": "code",
      "source": [
        "for episode in range(num_episodes):\n",
        "    state = env.reset()\n",
        "    done = False\n",
        "\n",
        "\n",
        "    player_sum, dealer_card, usable_ace = state\n",
        "    player_sum -= 12\n",
        "    dealer_card -= 1\n",
        "    usable_ace = int(usable_ace)\n",
        "    if np.random.rand() < epsilon:\n",
        "        action = env.action_space.sample()\n",
        "    else:\n",
        "        action = np.argmax(Q[player_sum, dealer_card, usable_ace, :])\n",
        "\n",
        "    while not done:\n",
        "        next_state, reward, done, _ = env.step(action)\n",
        "\n",
        "        next_player_sum, next_dealer_card, next_usable_ace = next_state\n",
        "        next_player_sum -= 12\n",
        "        next_dealer_card -= 1\n",
        "        next_usable_ace = int(next_usable_ace)\n",
        "\n",
        "        if np.random.rand() < epsilon:\n",
        "            next_action = env.action_space.sample()\n",
        "        else:\n",
        "            next_action = np.argmax(Q[next_player_sum, next_dealer_card, next_usable_ace, :])\n",
        "\n",
        "\n",
        "        current_q_value = Q[player_sum, dealer_card, usable_ace, action]\n",
        "        next_q_value = Q[next_player_sum, next_dealer_card, next_usable_ace, next_action]\n",
        "        updated_q_value = current_q_value + learning_rate * (reward + discount_factor * next_q_value - current_q_value)\n",
        "\n",
        "\n",
        "        Q[player_sum, dealer_card, usable_ace, action] = updated_q_value\n",
        "\n",
        "\n",
        "        state = next_state\n",
        "        action = next_action"
      ],
      "metadata": {
        "id": "Yyc_HzdigwyI"
      },
      "execution_count": 11,
      "outputs": []
    },
    {
      "cell_type": "code",
      "source": [
        "num_episodes = 10000\n",
        "wins = 0\n",
        "loss = 0\n",
        "draw = 0\n",
        "for episode in range(num_episodes):\n",
        "    state = env.reset()\n",
        "    done = False\n",
        "\n",
        "    while not done:\n",
        "        player_sum, dealer_card, usable_ace = state\n",
        "        player_sum -= 12\n",
        "        dealer_card -= 1\n",
        "        usable_ace = int(usable_ace)\n",
        "\n",
        "        action = np.argmax(Q[player_sum, dealer_card, usable_ace, :])\n",
        "\n",
        "        next_state, reward, done, _ = env.step(action)\n",
        "\n",
        "        state = next_state\n",
        "\n",
        "    if reward == 1:\n",
        "        wins += 1\n",
        "    elif reward == -1:\n",
        "        loss += 1\n",
        "    else:\n",
        "        draw += 1\n",
        "\n",
        "print(\"Wins:\", wins)\n",
        "print(\"Losses:\", loss)\n",
        "print(\"Draws:\", draw)"
      ],
      "metadata": {
        "colab": {
          "base_uri": "https://localhost:8080/"
        },
        "id": "TSvp2pK1gsbi",
        "outputId": "2b85b56f-036a-4212-ae7b-3b2d53b2edb7"
      },
      "execution_count": 9,
      "outputs": [
        {
          "output_type": "stream",
          "name": "stdout",
          "text": [
            "Wins: 3939\n",
            "Losses: 5356\n",
            "Draws: 705\n"
          ]
        }
      ]
    },
    {
      "cell_type": "code",
      "source": [
        "win_percentage = (wins / num_episodes) * 100\n",
        "loss_percentage = (loss / num_episodes) * 100\n",
        "draw_percentage = (draw / num_episodes) * 100\n",
        "print(\"Win Percentage: %.2f%%\" % win_percentage)\n",
        "print(\"Loss Percentage: %.2f%%\" % loss_percentage)\n",
        "print(\"Draw Percentage: %.2f%%\" % draw_percentage)"
      ],
      "metadata": {
        "colab": {
          "base_uri": "https://localhost:8080/"
        },
        "id": "lCo6zE9Og0y3",
        "outputId": "039df1f5-71ae-4835-c7fa-c688a15316dc"
      },
      "execution_count": 10,
      "outputs": [
        {
          "output_type": "stream",
          "name": "stdout",
          "text": [
            "Win Percentage: 39.39%\n",
            "Loss Percentage: 53.56%\n",
            "Draw Percentage: 7.05%\n"
          ]
        }
      ]
    }
  ]
}